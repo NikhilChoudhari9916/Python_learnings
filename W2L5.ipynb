{
  "nbformat": 4,
  "nbformat_minor": 0,
  "metadata": {
    "colab": {
      "provenance": []
    },
    "kernelspec": {
      "name": "python3",
      "display_name": "Python 3"
    },
    "language_info": {
      "name": "python"
    }
  },
  "cells": [
    {
      "cell_type": "markdown",
      "source": [
        "W2L5 Notes link https://colab.research.google.com/drive/1Tios6R7E9WafismKpHvnWgk9grk-tq50\n"
      ],
      "metadata": {
        "id": "3t4emHbhryDP"
      }
    },
    {
      "cell_type": "markdown",
      "source": [
        "Sorting a list -\n",
        "\n",
        "Uses -\n",
        "1. Binary search\n",
        "2. Finding the median is easy.\n",
        "3. We can check for duplicates easily\n",
        "4. Building a frequency table is easier."
      ],
      "metadata": {
        "id": "1xLPALQ1sAAe"
      }
    },
    {
      "cell_type": "markdown",
      "source": [
        "SELECTION SORT -\n",
        "\n",
        "1. Scan the list and find the minimum element\n",
        "2. Move the found minimum element to a new list.\n",
        "3. repeat from step 1 until the list is exhausted.\n",
        "\n",
        "But we would like to avoid using a second list. Therefore we need to makedo with only one list.\n",
        "\n",
        "1. Find the min element.\n",
        "2. Swap the first index(that is the 0th index for the first iteration.) element with the found min element\n",
        "3. repeat."
      ],
      "metadata": {
        "id": "dajW6systKwQ"
      }
    },
    {
      "cell_type": "markdown",
      "source": [
        "Steps -\n",
        "1. We return the list if the list contains 0 elements.\n",
        "2. In a list from 0 to n-1 elements, we find the minimum most and then replace the elements in place.\n",
        "3. this way we are assuming that the elements from 0 to i-1 are already sorted and that now we only have to look at elements from j=i to n-1 elements and find the minimum of elements at those indices."
      ],
      "metadata": {
        "id": "gNROVyQfo53k"
      }
    },
    {
      "cell_type": "code",
      "source": [
        "def selection_sort(L):\n",
        "  n = len(L)\n",
        "\n",
        "  if n<1:\n",
        "    return L\n",
        "\n",
        "  for i in range(n):\n",
        "    mpos = i\n",
        "    for j in range(i+1, n):\n",
        "\n",
        "      if L[j] < L[mpos]:\n",
        "        mpos = j\n",
        "      #If the code comes here then we have established that there is an element that is smaller than the element at the i-1th position\n",
        "      #So now we exchange the elements with one another\n",
        "      (L[i], L[mpos]) = (L[mpos], L[i])\n",
        "\n",
        "  return L\n",
        "\n"
      ],
      "metadata": {
        "id": "kCSdKNfJubCV"
      },
      "execution_count": null,
      "outputs": []
    },
    {
      "cell_type": "code",
      "source": [
        "selection_sort([2,6,3,88,77,15,9])"
      ],
      "metadata": {
        "colab": {
          "base_uri": "https://localhost:8080/"
        },
        "id": "rRpPB0snvxaP",
        "outputId": "2557916e-b426-470f-e52f-2c22df0b6854"
      },
      "execution_count": null,
      "outputs": [
        {
          "output_type": "execute_result",
          "data": {
            "text/plain": [
              "[2, 3, 6, 9, 15, 77, 88]"
            ]
          },
          "metadata": {},
          "execution_count": 6
        }
      ]
    }
  ]
}