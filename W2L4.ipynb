{
  "nbformat": 4,
  "nbformat_minor": 0,
  "metadata": {
    "colab": {
      "provenance": []
    },
    "kernelspec": {
      "name": "python3",
      "display_name": "Python 3"
    },
    "language_info": {
      "name": "python"
    }
  },
  "cells": [
    {
      "cell_type": "markdown",
      "source": [
        "Use acegrade notes too....This is just for my coding"
      ],
      "metadata": {
        "id": "IQAt237boame"
      }
    },
    {
      "cell_type": "markdown",
      "source": [
        "Week 2 L4. acegrade notes link - https://colab.research.google.com/drive/14HFLH3OcCLLXwNSUTsQkX_diIXuTPKHv#scrollTo=AmsQFk-gEXAb"
      ],
      "metadata": {
        "id": "tOnzZmD0otCj"
      }
    },
    {
      "cell_type": "markdown",
      "source": [
        "Binary search -\n",
        "There is a list l and a search element v.\n",
        "\n",
        "1. The first criterion is that the list must be sorted in an ascending order.\n",
        "2. Then, we compare v with the midpoint of list l\n",
        "3. If midpoint == v then the element is found and our work is done. if not,\n",
        "4. if v > midpoint of l, it means that the element is in the right half of the list.\n",
        "5. if element v < midpoint of l, then the search element lies in the left half of the list.\n",
        "6. Based on above criterion, we either discard the left half of the list or the right half and continue the process from step 2 until the element is found or we exhaust the list."
      ],
      "metadata": {
        "id": "jKB-ZLq5oJFG"
      }
    },
    {
      "cell_type": "code",
      "source": [
        "def Binary_search(v,l):\n",
        "  if l == []:\n",
        "    return (False)\n",
        "\n",
        "  m = len(l)//2\n",
        "\n",
        "  if l[m] == v:\n",
        "    return True\n",
        "\n",
        "  if v < l[m]:\n",
        "    return (Binary_search(v, l[:m]))\n",
        "  else:\n",
        "    return(Binary_search(v, l[m+1:]))"
      ],
      "metadata": {
        "id": "C0BM0PzXqMoI"
      },
      "execution_count": 2,
      "outputs": []
    },
    {
      "cell_type": "code",
      "source": [
        "Binary_search(5,[0,1,2,3,4,5])"
      ],
      "metadata": {
        "colab": {
          "base_uri": "https://localhost:8080/"
        },
        "id": "9ys1jGV6LB2z",
        "outputId": "ea3f8ee8-6dd7-4b27-e0d2-9f0f755b7894"
      },
      "execution_count": 3,
      "outputs": [
        {
          "output_type": "execute_result",
          "data": {
            "text/plain": [
              "True"
            ]
          },
          "metadata": {},
          "execution_count": 3
        }
      ]
    },
    {
      "cell_type": "markdown",
      "source": [
        "So, how much time does Binary search take, that is what is its time complexity?\n",
        "\n",
        "It takes time proportional to the number of steps required to halve the list and bring the lenght down to one after which we cannot halve it.\n",
        "\n",
        "This halving is justified by the function log(n) where n is the length of the list. Therefore, binary search has a big oh of log(n)\n",
        "\n",
        "Binary search - O(log(n))"
      ],
      "metadata": {
        "id": "ApX2VPZmLpB4"
      }
    },
    {
      "cell_type": "code",
      "source": [],
      "metadata": {
        "id": "syaFnn_8MOps"
      },
      "execution_count": null,
      "outputs": []
    }
  ]
}