{
  "nbformat": 4,
  "nbformat_minor": 0,
  "metadata": {
    "colab": {
      "provenance": []
    },
    "kernelspec": {
      "name": "python3",
      "display_name": "Python 3"
    },
    "language_info": {
      "name": "python"
    }
  },
  "cells": [
    {
      "cell_type": "markdown",
      "source": [
        "W2L6 - Notes - https://colab.research.google.com/drive/1DQrTvMJzVpVs_U-KJ0bfQf0wFVS3bVMC"
      ],
      "metadata": {
        "id": "1sDYTSe1rE2F"
      }
    },
    {
      "cell_type": "markdown",
      "source": [
        "Insertion Sort - As the name suggests, we go on sorting as we encounter a new element. We identify where this new found element shall sit and we put it there. So, it is a sort as you find algorithm."
      ],
      "metadata": {
        "id": "gQHByL-j0mRa"
      }
    },
    {
      "cell_type": "markdown",
      "source": [],
      "metadata": {
        "id": "UUYJgom4M2z8"
      }
    },
    {
      "cell_type": "code",
      "source": [
        "def insertion_sort(L):\n",
        "\n",
        "  n = len(L)\n",
        "\n",
        "  if n<1:\n",
        "    return L\n",
        "\n",
        "  for i in range(n):\n",
        "    j = i\n",
        "\n",
        "    while(j>0 and L[j] < L[j-1]):\n",
        "      (L[j], L[j-1]) = (L[j-1], L[j])\n",
        "      j = j-1\n",
        "  return L"
      ],
      "metadata": {
        "id": "2Rbrz_lI03Wo"
      },
      "execution_count": 1,
      "outputs": []
    },
    {
      "cell_type": "code",
      "source": [
        "# Can we do this recursively?\n",
        "\n",
        "def insertion_sort(L):\n",
        "\n",
        "    # We are not doing it right now. Look at W2L6 later again."
      ],
      "metadata": {
        "id": "JVXB0MXhRGrb"
      },
      "execution_count": null,
      "outputs": []
    },
    {
      "cell_type": "markdown",
      "source": [
        "Worst case complexity is O(n^2)\n",
        "\n",
        "But unlike selection sort which has constant runtime, insertion sort has shorter run time when a list is sorted.\n"
      ],
      "metadata": {
        "id": "R7JCM5TPSf97"
      }
    },
    {
      "cell_type": "code",
      "source": [],
      "metadata": {
        "id": "A9qcvCBprCQ-"
      },
      "execution_count": null,
      "outputs": []
    }
  ]
}